{
 "cells": [
  {
   "cell_type": "code",
   "execution_count": 8,
   "metadata": {},
   "outputs": [],
   "source": [
    "import psycopg2\n",
    "import pandas as pd"
   ]
  },
  {
   "cell_type": "code",
   "execution_count": 9,
   "metadata": {},
   "outputs": [],
   "source": [
    "\n",
    "engine = psycopg2.connect(\n",
    "    database=\"project4\",\n",
    "    user=\"postgres\",\n",
    "    password=\"wVxBXGrDQ5JhHcA\",\n",
    "    host=\"bootcampproject4.ceqr0hcm5qlq.us-east-1.rds.amazonaws.com\",\n",
    "    port='5432'\n",
    ")"
   ]
  },
  {
   "cell_type": "code",
   "execution_count": 12,
   "metadata": {},
   "outputs": [],
   "source": [
    "Query = \"select * from telecom_customer_churn\""
   ]
  },
  {
   "cell_type": "code",
   "execution_count": 13,
   "metadata": {},
   "outputs": [
    {
     "name": "stdout",
     "output_type": "stream",
     "text": [
      "   customerid  gender  age married  number_of_dependents          city  \\\n",
      "0  0002-ORFBO  Female   37     Yes                     0  Frazier Park   \n",
      "1  0003-MKNFE    Male   46      No                     0      Glendale   \n",
      "\n",
      "   zipcode   latitude  longtitude  numberofreferrals  ...  paymentmethod  \\\n",
      "0    93225  34.827662 -118.999073                  2  ...    Credit Card   \n",
      "1    91206  34.162515 -118.203869                  0  ...    Credit Card   \n",
      "\n",
      "  monthlycharge totalcharges  totalrefunds totalextradatacharges  \\\n",
      "0          65.6        593.3          0.00                   0.0   \n",
      "1          -4.0        542.4         38.33                  10.0   \n",
      "\n",
      "  totallongdistancecharges totalrevenue  customerstatus churncategory  \\\n",
      "0                   381.51       974.81          Stayed          None   \n",
      "1                    96.21       610.28          Stayed          None   \n",
      "\n",
      "  churnreason  \n",
      "0        None  \n",
      "1        None  \n",
      "\n",
      "[2 rows x 38 columns]\n"
     ]
    }
   ],
   "source": [
    "data_df = pd.io.sql.read_sql(Query, engine)\n",
    "print(data_df.head(2))\n",
    "engine.close()"
   ]
  }
 ],
 "metadata": {
  "kernelspec": {
   "display_name": "Python 3.7.10 ('project4')",
   "language": "python",
   "name": "python3"
  },
  "language_info": {
   "codemirror_mode": {
    "name": "ipython",
    "version": 3
   },
   "file_extension": ".py",
   "mimetype": "text/x-python",
   "name": "python",
   "nbconvert_exporter": "python",
   "pygments_lexer": "ipython3",
   "version": "3.7.10"
  },
  "orig_nbformat": 4,
  "vscode": {
   "interpreter": {
    "hash": "074c110bea8196de3565b792d6207ed5e730a26aed2b993d23b8a39cc53940ff"
   }
  }
 },
 "nbformat": 4,
 "nbformat_minor": 2
}
