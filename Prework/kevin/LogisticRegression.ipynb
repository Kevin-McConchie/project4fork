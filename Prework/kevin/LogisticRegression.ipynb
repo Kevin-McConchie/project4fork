{
 "cells": [
  {
   "cell_type": "code",
   "execution_count": 2,
   "metadata": {},
   "outputs": [],
   "source": [
    "import pandas as pd\n",
    "import numpy as np\n",
    "import matplotlib.pyplot as plt\n",
    "import seaborn as sns\n",
    "import warnings\n",
    "warnings.filterwarnings('ignore')"
   ]
  },
  {
   "cell_type": "code",
   "execution_count": 3,
   "metadata": {},
   "outputs": [
    {
     "data": {
      "text/html": [
       "<div>\n",
       "<style scoped>\n",
       "    .dataframe tbody tr th:only-of-type {\n",
       "        vertical-align: middle;\n",
       "    }\n",
       "\n",
       "    .dataframe tbody tr th {\n",
       "        vertical-align: top;\n",
       "    }\n",
       "\n",
       "    .dataframe thead th {\n",
       "        text-align: right;\n",
       "    }\n",
       "</style>\n",
       "<table border=\"1\" class=\"dataframe\">\n",
       "  <thead>\n",
       "    <tr style=\"text-align: right;\">\n",
       "      <th></th>\n",
       "      <th>Customer ID</th>\n",
       "      <th>Gender</th>\n",
       "      <th>Age</th>\n",
       "      <th>Married</th>\n",
       "      <th>Number of Dependents</th>\n",
       "      <th>City</th>\n",
       "      <th>Zip Code</th>\n",
       "      <th>Latitude</th>\n",
       "      <th>Longitude</th>\n",
       "      <th>Number of Referrals</th>\n",
       "      <th>...</th>\n",
       "      <th>Payment Method</th>\n",
       "      <th>Monthly Charge</th>\n",
       "      <th>Total Charges</th>\n",
       "      <th>Total Refunds</th>\n",
       "      <th>Total Extra Data Charges</th>\n",
       "      <th>Total Long Distance Charges</th>\n",
       "      <th>Total Revenue</th>\n",
       "      <th>Customer Status</th>\n",
       "      <th>Churn Category</th>\n",
       "      <th>Churn Reason</th>\n",
       "    </tr>\n",
       "  </thead>\n",
       "  <tbody>\n",
       "    <tr>\n",
       "      <th>0</th>\n",
       "      <td>0002-ORFBO</td>\n",
       "      <td>Female</td>\n",
       "      <td>37</td>\n",
       "      <td>Yes</td>\n",
       "      <td>0</td>\n",
       "      <td>Frazier Park</td>\n",
       "      <td>93225</td>\n",
       "      <td>34.827662</td>\n",
       "      <td>-118.999073</td>\n",
       "      <td>2</td>\n",
       "      <td>...</td>\n",
       "      <td>Credit Card</td>\n",
       "      <td>65.6</td>\n",
       "      <td>593.30</td>\n",
       "      <td>0.00</td>\n",
       "      <td>0</td>\n",
       "      <td>381.51</td>\n",
       "      <td>974.81</td>\n",
       "      <td>Stayed</td>\n",
       "      <td>NaN</td>\n",
       "      <td>NaN</td>\n",
       "    </tr>\n",
       "    <tr>\n",
       "      <th>1</th>\n",
       "      <td>0003-MKNFE</td>\n",
       "      <td>Male</td>\n",
       "      <td>46</td>\n",
       "      <td>No</td>\n",
       "      <td>0</td>\n",
       "      <td>Glendale</td>\n",
       "      <td>91206</td>\n",
       "      <td>34.162515</td>\n",
       "      <td>-118.203869</td>\n",
       "      <td>0</td>\n",
       "      <td>...</td>\n",
       "      <td>Credit Card</td>\n",
       "      <td>-4.0</td>\n",
       "      <td>542.40</td>\n",
       "      <td>38.33</td>\n",
       "      <td>10</td>\n",
       "      <td>96.21</td>\n",
       "      <td>610.28</td>\n",
       "      <td>Stayed</td>\n",
       "      <td>NaN</td>\n",
       "      <td>NaN</td>\n",
       "    </tr>\n",
       "    <tr>\n",
       "      <th>2</th>\n",
       "      <td>0004-TLHLJ</td>\n",
       "      <td>Male</td>\n",
       "      <td>50</td>\n",
       "      <td>No</td>\n",
       "      <td>0</td>\n",
       "      <td>Costa Mesa</td>\n",
       "      <td>92627</td>\n",
       "      <td>33.645672</td>\n",
       "      <td>-117.922613</td>\n",
       "      <td>0</td>\n",
       "      <td>...</td>\n",
       "      <td>Bank Withdrawal</td>\n",
       "      <td>73.9</td>\n",
       "      <td>280.85</td>\n",
       "      <td>0.00</td>\n",
       "      <td>0</td>\n",
       "      <td>134.60</td>\n",
       "      <td>415.45</td>\n",
       "      <td>Churned</td>\n",
       "      <td>Competitor</td>\n",
       "      <td>Competitor had better devices</td>\n",
       "    </tr>\n",
       "    <tr>\n",
       "      <th>3</th>\n",
       "      <td>0011-IGKFF</td>\n",
       "      <td>Male</td>\n",
       "      <td>78</td>\n",
       "      <td>Yes</td>\n",
       "      <td>0</td>\n",
       "      <td>Martinez</td>\n",
       "      <td>94553</td>\n",
       "      <td>38.014457</td>\n",
       "      <td>-122.115432</td>\n",
       "      <td>1</td>\n",
       "      <td>...</td>\n",
       "      <td>Bank Withdrawal</td>\n",
       "      <td>98.0</td>\n",
       "      <td>1237.85</td>\n",
       "      <td>0.00</td>\n",
       "      <td>0</td>\n",
       "      <td>361.66</td>\n",
       "      <td>1599.51</td>\n",
       "      <td>Churned</td>\n",
       "      <td>Dissatisfaction</td>\n",
       "      <td>Product dissatisfaction</td>\n",
       "    </tr>\n",
       "    <tr>\n",
       "      <th>4</th>\n",
       "      <td>0013-EXCHZ</td>\n",
       "      <td>Female</td>\n",
       "      <td>75</td>\n",
       "      <td>Yes</td>\n",
       "      <td>0</td>\n",
       "      <td>Camarillo</td>\n",
       "      <td>93010</td>\n",
       "      <td>34.227846</td>\n",
       "      <td>-119.079903</td>\n",
       "      <td>3</td>\n",
       "      <td>...</td>\n",
       "      <td>Credit Card</td>\n",
       "      <td>83.9</td>\n",
       "      <td>267.40</td>\n",
       "      <td>0.00</td>\n",
       "      <td>0</td>\n",
       "      <td>22.14</td>\n",
       "      <td>289.54</td>\n",
       "      <td>Churned</td>\n",
       "      <td>Dissatisfaction</td>\n",
       "      <td>Network reliability</td>\n",
       "    </tr>\n",
       "  </tbody>\n",
       "</table>\n",
       "<p>5 rows × 38 columns</p>\n",
       "</div>"
      ],
      "text/plain": [
       "  Customer ID  Gender  Age Married  Number of Dependents          City  \\\n",
       "0  0002-ORFBO  Female   37     Yes                     0  Frazier Park   \n",
       "1  0003-MKNFE    Male   46      No                     0      Glendale   \n",
       "2  0004-TLHLJ    Male   50      No                     0    Costa Mesa   \n",
       "3  0011-IGKFF    Male   78     Yes                     0      Martinez   \n",
       "4  0013-EXCHZ  Female   75     Yes                     0     Camarillo   \n",
       "\n",
       "   Zip Code   Latitude   Longitude  Number of Referrals  ...   Payment Method  \\\n",
       "0     93225  34.827662 -118.999073                    2  ...      Credit Card   \n",
       "1     91206  34.162515 -118.203869                    0  ...      Credit Card   \n",
       "2     92627  33.645672 -117.922613                    0  ...  Bank Withdrawal   \n",
       "3     94553  38.014457 -122.115432                    1  ...  Bank Withdrawal   \n",
       "4     93010  34.227846 -119.079903                    3  ...      Credit Card   \n",
       "\n",
       "  Monthly Charge Total Charges  Total Refunds Total Extra Data Charges  \\\n",
       "0           65.6        593.30           0.00                        0   \n",
       "1           -4.0        542.40          38.33                       10   \n",
       "2           73.9        280.85           0.00                        0   \n",
       "3           98.0       1237.85           0.00                        0   \n",
       "4           83.9        267.40           0.00                        0   \n",
       "\n",
       "  Total Long Distance Charges Total Revenue  Customer Status   Churn Category  \\\n",
       "0                      381.51        974.81           Stayed              NaN   \n",
       "1                       96.21        610.28           Stayed              NaN   \n",
       "2                      134.60        415.45          Churned       Competitor   \n",
       "3                      361.66       1599.51          Churned  Dissatisfaction   \n",
       "4                       22.14        289.54          Churned  Dissatisfaction   \n",
       "\n",
       "                    Churn Reason  \n",
       "0                            NaN  \n",
       "1                            NaN  \n",
       "2  Competitor had better devices  \n",
       "3        Product dissatisfaction  \n",
       "4            Network reliability  \n",
       "\n",
       "[5 rows x 38 columns]"
      ]
     },
     "execution_count": 3,
     "metadata": {},
     "output_type": "execute_result"
    }
   ],
   "source": [
    "# read csv file for data set\n",
    "\n",
    "df = pd.read_csv(\"../Resources/telecom_customer_churn.csv\")\n",
    "df.head()"
   ]
  },
  {
   "cell_type": "code",
   "execution_count": 4,
   "metadata": {},
   "outputs": [],
   "source": [
    "# removed joined from customer category\n",
    "df = df[df['Customer Status'] != 'Joined']"
   ]
  },
  {
   "cell_type": "code",
   "execution_count": 5,
   "metadata": {},
   "outputs": [],
   "source": [
    "# Fill in default values from nan values\n",
    "\n",
    "df['Churn Category']                    = df['Churn Category'].replace(np.nan,'satisfied')\n",
    "df['Internet Type']                     = df['Internet Type'].replace(np.nan,'No')\n",
    "df['Multiple Lines']                    = df['Multiple Lines'].replace(np.nan,'No')\n",
    "df['Avg Monthly Long Distance Charges'] = df['Avg Monthly Long Distance Charges'].replace(np.nan,0)\n",
    "df['Avg Monthly GB Download']           = df['Avg Monthly GB Download'].replace(np.nan,0)\n",
    "df['Multiple Lines']                    = df['Multiple Lines'].replace(np.nan,'No')\n",
    "df['Internet Service']                  = df['Internet Service'].replace(np.nan,'No')\n",
    "df['Online Security']                   = df['Online Security'].replace(np.nan,'No')\n",
    "df['Online Backup']                     = df['Online Backup'].replace(np.nan,'No')\n",
    "df['Device Protection Plan']            = df['Device Protection Plan'].replace(np.nan,'No')\n",
    "df['Premium Tech Support']              = df['Premium Tech Support'].replace(np.nan,'No')\n",
    "df['Streaming TV']                      = df['Streaming TV'].replace(np.nan,'No')\n",
    "df['Streaming Music']                   = df['Streaming Music'].replace(np.nan,'No')\n",
    "df['Unlimited Data']                    = df['Unlimited Data'].replace(np.nan,'No')\n",
    "df['Streaming Movies']                  = df['Streaming Movies'].replace(np.nan,'No')"
   ]
  },
  {
   "cell_type": "code",
   "execution_count": 6,
   "metadata": {},
   "outputs": [
    {
     "name": "stdout",
     "output_type": "stream",
     "text": [
      "Index(['Customer ID', 'Gender', 'Age', 'Married', 'Number of Dependents',\n",
      "       'City', 'Zip Code', 'Latitude', 'Longitude', 'Number of Referrals',\n",
      "       'Tenure in Months', 'Offer', 'Phone Service',\n",
      "       'Avg Monthly Long Distance Charges', 'Multiple Lines',\n",
      "       'Internet Service', 'Internet Type', 'Avg Monthly GB Download',\n",
      "       'Online Security', 'Online Backup', 'Device Protection Plan',\n",
      "       'Premium Tech Support', 'Streaming TV', 'Streaming Movies',\n",
      "       'Streaming Music', 'Unlimited Data', 'Contract', 'Paperless Billing',\n",
      "       'Payment Method', 'Monthly Charge', 'Total Charges', 'Total Refunds',\n",
      "       'Total Extra Data Charges', 'Total Long Distance Charges',\n",
      "       'Total Revenue', 'Customer Status', 'Churn Category', 'Churn Reason'],\n",
      "      dtype='object')\n",
      "<class 'pandas.core.frame.DataFrame'>\n",
      "Int64Index: 6589 entries, 0 to 7042\n",
      "Data columns (total 38 columns):\n",
      " #   Column                             Non-Null Count  Dtype  \n",
      "---  ------                             --------------  -----  \n",
      " 0   Customer ID                        6589 non-null   object \n",
      " 1   Gender                             6589 non-null   object \n",
      " 2   Age                                6589 non-null   int64  \n",
      " 3   Married                            6589 non-null   object \n",
      " 4   Number of Dependents               6589 non-null   int64  \n",
      " 5   City                               6589 non-null   object \n",
      " 6   Zip Code                           6589 non-null   int64  \n",
      " 7   Latitude                           6589 non-null   float64\n",
      " 8   Longitude                          6589 non-null   float64\n",
      " 9   Number of Referrals                6589 non-null   int64  \n",
      " 10  Tenure in Months                   6589 non-null   int64  \n",
      " 11  Offer                              6589 non-null   object \n",
      " 12  Phone Service                      6589 non-null   object \n",
      " 13  Avg Monthly Long Distance Charges  6589 non-null   float64\n",
      " 14  Multiple Lines                     6589 non-null   object \n",
      " 15  Internet Service                   6589 non-null   object \n",
      " 16  Internet Type                      6589 non-null   object \n",
      " 17  Avg Monthly GB Download            6589 non-null   float64\n",
      " 18  Online Security                    6589 non-null   object \n",
      " 19  Online Backup                      6589 non-null   object \n",
      " 20  Device Protection Plan             6589 non-null   object \n",
      " 21  Premium Tech Support               6589 non-null   object \n",
      " 22  Streaming TV                       6589 non-null   object \n",
      " 23  Streaming Movies                   6589 non-null   object \n",
      " 24  Streaming Music                    6589 non-null   object \n",
      " 25  Unlimited Data                     6589 non-null   object \n",
      " 26  Contract                           6589 non-null   object \n",
      " 27  Paperless Billing                  6589 non-null   object \n",
      " 28  Payment Method                     6589 non-null   object \n",
      " 29  Monthly Charge                     6589 non-null   float64\n",
      " 30  Total Charges                      6589 non-null   float64\n",
      " 31  Total Refunds                      6589 non-null   float64\n",
      " 32  Total Extra Data Charges           6589 non-null   int64  \n",
      " 33  Total Long Distance Charges        6589 non-null   float64\n",
      " 34  Total Revenue                      6589 non-null   float64\n",
      " 35  Customer Status                    6589 non-null   object \n",
      " 36  Churn Category                     6589 non-null   object \n",
      " 37  Churn Reason                       1869 non-null   object \n",
      "dtypes: float64(9), int64(6), object(23)\n",
      "memory usage: 2.0+ MB\n"
     ]
    }
   ],
   "source": [
    "print(df.columns)\n",
    "df.info()"
   ]
  },
  {
   "cell_type": "code",
   "execution_count": null,
   "metadata": {},
   "outputs": [],
   "source": []
  },
  {
   "cell_type": "code",
   "execution_count": 7,
   "metadata": {},
   "outputs": [
    {
     "name": "stdout",
     "output_type": "stream",
     "text": [
      "['Customer ID', 'Gender', 'Married', 'City', 'Offer', 'Phone Service', 'Multiple Lines', 'Internet Service', 'Internet Type', 'Online Security', 'Online Backup', 'Device Protection Plan', 'Premium Tech Support', 'Streaming TV', 'Streaming Movies', 'Streaming Music', 'Unlimited Data', 'Contract', 'Paperless Billing', 'Payment Method', 'Customer Status', 'Churn Category', 'Churn Reason']\n"
     ]
    }
   ],
   "source": [
    "mylist = list(df.select_dtypes(include=['object']).columns)\n",
    "print(mylist)\n",
    "\n",
    "for column in mylist:\n",
    "    df[column] = df[column].astype('category')"
   ]
  },
  {
   "cell_type": "code",
   "execution_count": 8,
   "metadata": {},
   "outputs": [
    {
     "data": {
      "text/plain": [
       "Customer ID                            int32\n",
       "Gender                                 int32\n",
       "Age                                    int64\n",
       "Married                                int32\n",
       "Number of Dependents                   int64\n",
       "City                                   int32\n",
       "Zip Code                               int64\n",
       "Latitude                             float64\n",
       "Longitude                            float64\n",
       "Number of Referrals                    int64\n",
       "Tenure in Months                       int64\n",
       "Offer                                  int32\n",
       "Phone Service                          int32\n",
       "Avg Monthly Long Distance Charges    float64\n",
       "Multiple Lines                         int32\n",
       "Internet Service                       int32\n",
       "Internet Type                          int32\n",
       "Avg Monthly GB Download              float64\n",
       "Online Security                        int32\n",
       "Online Backup                          int32\n",
       "Device Protection Plan                 int32\n",
       "Premium Tech Support                   int32\n",
       "Streaming TV                           int32\n",
       "Streaming Movies                       int32\n",
       "Streaming Music                        int32\n",
       "Unlimited Data                         int32\n",
       "Contract                               int32\n",
       "Paperless Billing                      int32\n",
       "Payment Method                         int32\n",
       "Monthly Charge                       float64\n",
       "Total Charges                        float64\n",
       "Total Refunds                        float64\n",
       "Total Extra Data Charges               int64\n",
       "Total Long Distance Charges          float64\n",
       "Total Revenue                        float64\n",
       "Customer Status                        int32\n",
       "Churn Category                         int32\n",
       "Churn Reason                           int32\n",
       "dtype: object"
      ]
     },
     "execution_count": 8,
     "metadata": {},
     "output_type": "execute_result"
    }
   ],
   "source": [
    "categorical_cols = list(df.select_dtypes(include=['category']).columns)\n",
    "\n",
    "from sklearn.preprocessing import LabelEncoder\n",
    "# set labelencoder object\n",
    "le = LabelEncoder()\n",
    "\n",
    "# apply le on categorical feature columns\n",
    "df[categorical_cols] = df[categorical_cols].apply(lambda col: le.fit_transform(col))    \n",
    "from sklearn.preprocessing import OneHotEncoder\n",
    "ohe = OneHotEncoder()\n",
    "\n",
    "#One-hot-encode the categorical columns.\n",
    "#Unfortunately outputs an array instead of dataframe.\n",
    "array_hot_encoded = ohe.fit_transform(df[categorical_cols])\n",
    "\n",
    "#Convert it to df\n",
    "data_hot_encoded = pd.DataFrame(array_hot_encoded, index=df.index)\n",
    "\n",
    "#Extract only the columns that didnt need to be encoded\n",
    "data_other_cols = df.drop(columns=categorical_cols)\n",
    "\n",
    "#Concatenate the two dataframes : \n",
    "data_out = pd.concat([data_hot_encoded, data_other_cols], axis=1)\n",
    "\n",
    "df.dtypes"
   ]
  },
  {
   "cell_type": "code",
   "execution_count": 9,
   "metadata": {},
   "outputs": [
    {
     "name": "stdout",
     "output_type": "stream",
     "text": [
      "Offer                     5.00\n",
      "Online Security           1.00\n",
      "Premium Tech Support      1.00\n",
      "Tenure in Months         72.00\n",
      "Number of Referrals      11.00\n",
      "Contract                  2.00\n",
      "Monthly Charge          118.75\n",
      "Number of Dependents      9.00\n",
      "Age                      80.00\n",
      "Paperless Billing         1.00\n",
      "Unlimited Data            1.00\n",
      "Married                   1.00\n",
      "dtype: float64\n"
     ]
    }
   ],
   "source": [
    "# create dataframe based on discussion and analysis\n",
    "lr_df = df[['Offer','Online Security','Premium Tech Support',\n",
    "            'Tenure in Months',  'Number of Referrals', 'Contract', 'Monthly Charge',\n",
    "            'Number of Dependents', 'Age', 'Paperless Billing', 'Unlimited Data',\n",
    "            'Married']]\n",
    "\n",
    "# check values for HTML form\n",
    "print(lr_df.max())\n",
    "# print(lr_df.min())\n",
    "# print(lr_df['Offer'])\n"
   ]
  },
  {
   "cell_type": "code",
   "execution_count": 10,
   "metadata": {},
   "outputs": [
    {
     "name": "stdout",
     "output_type": "stream",
     "text": [
      "(6589, 12) (6589,)\n"
     ]
    },
    {
     "data": {
      "text/plain": [
       "dtype('int32')"
      ]
     },
     "execution_count": 10,
     "metadata": {},
     "output_type": "execute_result"
    }
   ],
   "source": [
    "from sklearn.model_selection import train_test_split\n",
    "\n",
    "X = lr_df\n",
    "y = df[\"Customer Status\"]\n",
    "print(X.shape, y.shape)\n",
    "y.dtype\n",
    "\n",
    "# print(X)"
   ]
  },
  {
   "cell_type": "markdown",
   "metadata": {},
   "source": [
    "https://www.nickmccullum.com/python-machine-learning/logistic-regression-python/#adding-dummy-variables-to-the-pandas-dataframe"
   ]
  },
  {
   "cell_type": "code",
   "execution_count": 11,
   "metadata": {},
   "outputs": [
    {
     "name": "stdout",
     "output_type": "stream",
     "text": [
      "      Offer  Online Security  Premium Tech Support  Tenure in Months  \\\n",
      "4541      0                0                     0                 4   \n",
      "4976      1                1                     1                71   \n",
      "3547      0                0                     0                 6   \n",
      "6646      0                0                     0                 1   \n",
      "516       2                1                     0                52   \n",
      "...     ...              ...                   ...               ...   \n",
      "4037      2                0                     1                41   \n",
      "5552      0                0                     0                 2   \n",
      "5589      2                0                     0                53   \n",
      "5760      0                1                     0                43   \n",
      "909       0                0                     0                53   \n",
      "\n",
      "      Number of Referrals  Contract  Monthly Charge  Number of Dependents  \\\n",
      "4541                    0         0           55.30                     0   \n",
      "4976                    9         2           85.45                     3   \n",
      "3547                    0         0           44.75                     0   \n",
      "6646                    1         0           44.70                     0   \n",
      "516                     0         1           91.25                     0   \n",
      "...                   ...       ...             ...                   ...   \n",
      "4037                    0         2           99.65                     0   \n",
      "5552                    0         0           75.55                     0   \n",
      "5589                   10         1           19.55                     1   \n",
      "5760                    0         0           63.95                     1   \n",
      "909                     1         0           98.40                     0   \n",
      "\n",
      "      Age  Paperless Billing  Unlimited Data  Married  \n",
      "4541   33                  1               1        0  \n",
      "4976   35                  0               1        1  \n",
      "3547   35                  0               0        0  \n",
      "6646   21                  0               1        1  \n",
      "516    43                  0               1        0  \n",
      "...   ...                ...             ...      ...  \n",
      "4037   29                  1               1        0  \n",
      "5552   32                  1               1        0  \n",
      "5589   49                  0               0        1  \n",
      "5760   26                  1               1        0  \n",
      "909    45                  1               1        1  \n",
      "\n",
      "[4941 rows x 12 columns]\n"
     ]
    }
   ],
   "source": [
    "X_train, X_test, y_train, y_test = train_test_split(X, y, random_state=42)\n",
    "\n",
    "print (X_train)"
   ]
  },
  {
   "cell_type": "code",
   "execution_count": 12,
   "metadata": {},
   "outputs": [],
   "source": [
    "from sklearn.preprocessing import StandardScaler,LabelEncoder, MinMaxScaler\n",
    "\n",
    "\n",
    "# # scale the data\n",
    "X_scaler = StandardScaler().fit(X_train)\n",
    "\n",
    "X_train_scaled = X_scaler.transform(X_train)\n",
    "X_test_scaled = X_scaler.transform(X_test)\n",
    "\n"
   ]
  },
  {
   "cell_type": "code",
   "execution_count": 13,
   "metadata": {},
   "outputs": [
    {
     "name": "stdout",
     "output_type": "stream",
     "text": [
      "Training Data Score: 0.844161100991702\n",
      "Testing Data Score: 0.8440533980582524\n"
     ]
    }
   ],
   "source": [
    "# Train the model\n",
    "\n",
    "from sklearn.linear_model import LogisticRegression\n",
    "model = LogisticRegression()\n",
    "model.fit(X_train, y_train)\n",
    "\n",
    "print(f\"Training Data Score: {model.score(X_train, y_train)}\")\n",
    "print(f\"Testing Data Score: {model.score(X_test, y_test)}\")"
   ]
  },
  {
   "cell_type": "code",
   "execution_count": 14,
   "metadata": {},
   "outputs": [
    {
     "name": "stdout",
     "output_type": "stream",
     "text": [
      "First 10 Predictions:   [0 1 1 1 1 1 0 1 1 1]\n",
      "First 10 Actual labels: [0, 1, 1, 1, 1, 1, 0, 1, 1, 1]\n"
     ]
    }
   ],
   "source": [
    "predictions = model.predict(X_test)\n",
    "print(f\"First 10 Predictions:   {predictions[:10]}\")\n",
    "print(f\"First 10 Actual labels: {y_test[:10].tolist()}\")"
   ]
  },
  {
   "cell_type": "code",
   "execution_count": 17,
   "metadata": {},
   "outputs": [
    {
     "name": "stdout",
     "output_type": "stream",
     "text": [
      "              precision    recall  f1-score   support\n",
      "\n",
      "           0       0.74      0.72      0.73       479\n",
      "           1       0.89      0.89      0.89      1169\n",
      "\n",
      "    accuracy                           0.84      1648\n",
      "   macro avg       0.81      0.81      0.81      1648\n",
      "weighted avg       0.84      0.84      0.84      1648\n",
      "\n"
     ]
    }
   ],
   "source": [
    "from sklearn.metrics  import classification_report\n",
    "print(classification_report(y_test,predictions))"
   ]
  },
  {
   "cell_type": "code",
   "execution_count": null,
   "metadata": {},
   "outputs": [],
   "source": [
    "# create dataframe from predictions\n",
    "predictions = model.predict(X_test)\n",
    "pd.DataFrame({\"Prediction\": predictions, \"Actual\": y_test}).reset_index(drop=True)"
   ]
  },
  {
   "cell_type": "markdown",
   "metadata": {},
   "source": [
    "https://towardsdatascience.com/tuning-the-hyperparameters-of-your-machine-learning-model-using-gridsearchcv-7fc2bb76ff27"
   ]
  },
  {
   "cell_type": "code",
   "execution_count": null,
   "metadata": {},
   "outputs": [],
   "source": [
    "# # Hyperparameter Tuning by Creating the GridSearchCV model - here for reference as score is 1\n",
    "from sklearn.model_selection import GridSearchCV\n",
    "\n",
    "param_grid = {'C': np.logspace(-3,3,7),\n",
    "              'solver'  : ['newton-cg', 'lbfgs', 'liblinear'],\n",
    "            'max_iter':[1000],}\n",
    "\n",
    "grid = GridSearchCV(model, param_grid, verbose=3)\n",
    "\n",
    "grid.fit(X_train, y_train)\n",
    "\n",
    "print(grid.best_params_)\n",
    "print(grid.best_score_)"
   ]
  },
  {
   "cell_type": "code",
   "execution_count": null,
   "metadata": {},
   "outputs": [],
   "source": [
    "# save model\n",
    "\n",
    "import joblib\n",
    "filename = 'LogisticRegression.sav'\n",
    "joblib.dump(model, filename)\n"
   ]
  },
  {
   "cell_type": "code",
   "execution_count": null,
   "metadata": {},
   "outputs": [],
   "source": [
    "# save scaler\n",
    "\n",
    "import joblib\n",
    "filename = 'X_scaler.sav'\n",
    "joblib.dump(X_scaler, filename)\n"
   ]
  }
 ],
 "metadata": {
  "kernelspec": {
   "display_name": "Python 3.7.13 ('bootcamp')",
   "language": "python",
   "name": "python3"
  },
  "language_info": {
   "codemirror_mode": {
    "name": "ipython",
    "version": 3
   },
   "file_extension": ".py",
   "mimetype": "text/x-python",
   "name": "python",
   "nbconvert_exporter": "python",
   "pygments_lexer": "ipython3",
   "version": "3.7.13"
  },
  "orig_nbformat": 4,
  "vscode": {
   "interpreter": {
    "hash": "2bc8728f68034420f4cc4c1a33cad6b752b6f009e9e443ca9c4b593c272a5f29"
   }
  }
 },
 "nbformat": 4,
 "nbformat_minor": 2
}
