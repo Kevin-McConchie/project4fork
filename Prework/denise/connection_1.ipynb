{
 "cells": [
  {
   "cell_type": "code",
   "execution_count": 6,
   "metadata": {},
   "outputs": [],
   "source": [
    "import psycopg2\n",
    "import  configparser\n",
    "import pandas as pd"
   ]
  },
  {
   "cell_type": "code",
   "execution_count": 7,
   "metadata": {},
   "outputs": [],
   "source": [
    "#\n",
    "# Reading configuration file for passwords.\n",
    "\n",
    "config = configparser.ConfigParser()\n",
    "config.read('../../my_config.ini')\n",
    " \n",
    "# get all the connections\n",
    "config.sections()\n",
    "DBPass = config.get('rds', 'password')"
   ]
  },
  {
   "cell_type": "markdown",
   "metadata": {},
   "source": [
    "<img title=\"a title\" alt=\"Alt text\" src=\"/images/AWS_RDS.png\">"
   ]
  },
  {
   "cell_type": "code",
   "execution_count": 8,
   "metadata": {},
   "outputs": [
    {
     "data": {
      "text/html": [
       "<div>\n",
       "<style scoped>\n",
       "    .dataframe tbody tr th:only-of-type {\n",
       "        vertical-align: middle;\n",
       "    }\n",
       "\n",
       "    .dataframe tbody tr th {\n",
       "        vertical-align: top;\n",
       "    }\n",
       "\n",
       "    .dataframe thead th {\n",
       "        text-align: right;\n",
       "    }\n",
       "</style>\n",
       "<table border=\"1\" class=\"dataframe\">\n",
       "  <thead>\n",
       "    <tr style=\"text-align: right;\">\n",
       "      <th></th>\n",
       "      <th>customerid</th>\n",
       "      <th>gender</th>\n",
       "      <th>age</th>\n",
       "      <th>married</th>\n",
       "      <th>number_of_dependents</th>\n",
       "      <th>city</th>\n",
       "      <th>zipcode</th>\n",
       "      <th>latitude</th>\n",
       "      <th>longtitude</th>\n",
       "      <th>numberofreferrals</th>\n",
       "      <th>...</th>\n",
       "      <th>paymentmethod</th>\n",
       "      <th>monthlycharge</th>\n",
       "      <th>totalcharges</th>\n",
       "      <th>totalrefunds</th>\n",
       "      <th>totalextradatacharges</th>\n",
       "      <th>totallongdistancecharges</th>\n",
       "      <th>totalrevenue</th>\n",
       "      <th>customerstatus</th>\n",
       "      <th>churncategory</th>\n",
       "      <th>churnreason</th>\n",
       "    </tr>\n",
       "  </thead>\n",
       "  <tbody>\n",
       "    <tr>\n",
       "      <th>0</th>\n",
       "      <td>0002-ORFBO</td>\n",
       "      <td>Female</td>\n",
       "      <td>37</td>\n",
       "      <td>Yes</td>\n",
       "      <td>0</td>\n",
       "      <td>Frazier Park</td>\n",
       "      <td>93225</td>\n",
       "      <td>34.827662</td>\n",
       "      <td>-118.999073</td>\n",
       "      <td>2</td>\n",
       "      <td>...</td>\n",
       "      <td>Credit Card</td>\n",
       "      <td>65.6</td>\n",
       "      <td>593.3</td>\n",
       "      <td>0.00</td>\n",
       "      <td>0.0</td>\n",
       "      <td>381.51</td>\n",
       "      <td>974.81</td>\n",
       "      <td>Stayed</td>\n",
       "      <td>None</td>\n",
       "      <td>None</td>\n",
       "    </tr>\n",
       "    <tr>\n",
       "      <th>1</th>\n",
       "      <td>0003-MKNFE</td>\n",
       "      <td>Male</td>\n",
       "      <td>46</td>\n",
       "      <td>No</td>\n",
       "      <td>0</td>\n",
       "      <td>Glendale</td>\n",
       "      <td>91206</td>\n",
       "      <td>34.162515</td>\n",
       "      <td>-118.203869</td>\n",
       "      <td>0</td>\n",
       "      <td>...</td>\n",
       "      <td>Credit Card</td>\n",
       "      <td>-4.0</td>\n",
       "      <td>542.4</td>\n",
       "      <td>38.33</td>\n",
       "      <td>10.0</td>\n",
       "      <td>96.21</td>\n",
       "      <td>610.28</td>\n",
       "      <td>Stayed</td>\n",
       "      <td>None</td>\n",
       "      <td>None</td>\n",
       "    </tr>\n",
       "  </tbody>\n",
       "</table>\n",
       "<p>2 rows × 38 columns</p>\n",
       "</div>"
      ],
      "text/plain": [
       "   customerid  gender  age married  number_of_dependents          city  \\\n",
       "0  0002-ORFBO  Female   37     Yes                     0  Frazier Park   \n",
       "1  0003-MKNFE    Male   46      No                     0      Glendale   \n",
       "\n",
       "   zipcode   latitude  longtitude  numberofreferrals  ...  paymentmethod  \\\n",
       "0    93225  34.827662 -118.999073                  2  ...    Credit Card   \n",
       "1    91206  34.162515 -118.203869                  0  ...    Credit Card   \n",
       "\n",
       "  monthlycharge totalcharges  totalrefunds totalextradatacharges  \\\n",
       "0          65.6        593.3          0.00                   0.0   \n",
       "1          -4.0        542.4         38.33                  10.0   \n",
       "\n",
       "  totallongdistancecharges totalrevenue  customerstatus churncategory  \\\n",
       "0                   381.51       974.81          Stayed          None   \n",
       "1                    96.21       610.28          Stayed          None   \n",
       "\n",
       "  churnreason  \n",
       "0        None  \n",
       "1        None  \n",
       "\n",
       "[2 rows x 38 columns]"
      ]
     },
     "execution_count": 8,
     "metadata": {},
     "output_type": "execute_result"
    }
   ],
   "source": [
    "\n",
    "engine = psycopg2.connect(\n",
    "    database    =   \"project4\",\n",
    "    user        =   \"postgres\",\n",
    "    password    =   DBPass,\n",
    "    host        =   \"bootcampproject4.ceqr0hcm5qlq.us-east-1.rds.amazonaws.com\",\n",
    "    port        =   '5432'\n",
    ")\n",
    "\n",
    "Query = \"select * from telecom_customer_churn\"\n",
    "\n",
    "data_df = pd.io.sql.read_sql(Query, engine)\n",
    "engine.close()\n",
    "\n",
    "data_df.head(2)"
   ]
  },
  {
   "cell_type": "code",
   "execution_count": null,
   "metadata": {},
   "outputs": [],
   "source": []
  },
  {
   "cell_type": "code",
   "execution_count": null,
   "metadata": {},
   "outputs": [],
   "source": []
  }
 ],
 "metadata": {
  "kernelspec": {
   "display_name": "Python 3.7.12 ('bootcamp')",
   "language": "python",
   "name": "python3"
  },
  "language_info": {
   "codemirror_mode": {
    "name": "ipython",
    "version": 3
   },
   "file_extension": ".py",
   "mimetype": "text/x-python",
   "name": "python",
   "nbconvert_exporter": "python",
   "pygments_lexer": "ipython3",
   "version": "3.7.12"
  },
  "orig_nbformat": 4,
  "vscode": {
   "interpreter": {
    "hash": "0177d0b8a2b6e54acf6252bb2539e74b888792532d7eae3d318e48ffaeb8c32a"
   }
  }
 },
 "nbformat": 4,
 "nbformat_minor": 2
}
