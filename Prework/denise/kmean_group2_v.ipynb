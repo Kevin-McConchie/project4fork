{
 "cells": [
  {
   "cell_type": "code",
   "execution_count": 210,
   "metadata": {},
   "outputs": [],
   "source": [
    "import pandas as pd\n",
    "import seaborn as sns\n",
    "import matplotlib.pyplot as plt\n",
    "from sklearn.decomposition import PCA\n",
    "from sklearn.cluster import KMeans\n",
    "from sklearn.preprocessing import MinMaxScaler, normalize\n",
    "from sklearn.model_selection import KFold, GridSearchCV\n",
    "from sklearn.metrics import silhouette_score\n",
    "import numpy as np"
   ]
  },
  {
   "cell_type": "code",
   "execution_count": 211,
   "metadata": {},
   "outputs": [
    {
     "data": {
      "text/html": [
       "<div>\n",
       "<style scoped>\n",
       "    .dataframe tbody tr th:only-of-type {\n",
       "        vertical-align: middle;\n",
       "    }\n",
       "\n",
       "    .dataframe tbody tr th {\n",
       "        vertical-align: top;\n",
       "    }\n",
       "\n",
       "    .dataframe thead th {\n",
       "        text-align: right;\n",
       "    }\n",
       "</style>\n",
       "<table border=\"1\" class=\"dataframe\">\n",
       "  <thead>\n",
       "    <tr style=\"text-align: right;\">\n",
       "      <th></th>\n",
       "      <th>Customer ID</th>\n",
       "      <th>Gender</th>\n",
       "      <th>Age</th>\n",
       "      <th>Married</th>\n",
       "      <th>Number of Dependents</th>\n",
       "      <th>City</th>\n",
       "      <th>Zip Code</th>\n",
       "      <th>Latitude</th>\n",
       "      <th>Longitude</th>\n",
       "      <th>Number of Referrals</th>\n",
       "      <th>...</th>\n",
       "      <th>Payment Method</th>\n",
       "      <th>Monthly Charge</th>\n",
       "      <th>Total Charges</th>\n",
       "      <th>Total Refunds</th>\n",
       "      <th>Total Extra Data Charges</th>\n",
       "      <th>Total Long Distance Charges</th>\n",
       "      <th>Total Revenue</th>\n",
       "      <th>Customer Status</th>\n",
       "      <th>Churn Category</th>\n",
       "      <th>Churn Reason</th>\n",
       "    </tr>\n",
       "  </thead>\n",
       "  <tbody>\n",
       "    <tr>\n",
       "      <th>0</th>\n",
       "      <td>0002-ORFBO</td>\n",
       "      <td>Female</td>\n",
       "      <td>37</td>\n",
       "      <td>Yes</td>\n",
       "      <td>0</td>\n",
       "      <td>Frazier Park</td>\n",
       "      <td>93225</td>\n",
       "      <td>34.827662</td>\n",
       "      <td>-118.999073</td>\n",
       "      <td>2</td>\n",
       "      <td>...</td>\n",
       "      <td>Credit Card</td>\n",
       "      <td>65.6</td>\n",
       "      <td>593.30</td>\n",
       "      <td>0.00</td>\n",
       "      <td>0</td>\n",
       "      <td>381.51</td>\n",
       "      <td>974.81</td>\n",
       "      <td>Stayed</td>\n",
       "      <td>NaN</td>\n",
       "      <td>NaN</td>\n",
       "    </tr>\n",
       "    <tr>\n",
       "      <th>1</th>\n",
       "      <td>0003-MKNFE</td>\n",
       "      <td>Male</td>\n",
       "      <td>46</td>\n",
       "      <td>No</td>\n",
       "      <td>0</td>\n",
       "      <td>Glendale</td>\n",
       "      <td>91206</td>\n",
       "      <td>34.162515</td>\n",
       "      <td>-118.203869</td>\n",
       "      <td>0</td>\n",
       "      <td>...</td>\n",
       "      <td>Credit Card</td>\n",
       "      <td>-4.0</td>\n",
       "      <td>542.40</td>\n",
       "      <td>38.33</td>\n",
       "      <td>10</td>\n",
       "      <td>96.21</td>\n",
       "      <td>610.28</td>\n",
       "      <td>Stayed</td>\n",
       "      <td>NaN</td>\n",
       "      <td>NaN</td>\n",
       "    </tr>\n",
       "    <tr>\n",
       "      <th>2</th>\n",
       "      <td>0004-TLHLJ</td>\n",
       "      <td>Male</td>\n",
       "      <td>50</td>\n",
       "      <td>No</td>\n",
       "      <td>0</td>\n",
       "      <td>Costa Mesa</td>\n",
       "      <td>92627</td>\n",
       "      <td>33.645672</td>\n",
       "      <td>-117.922613</td>\n",
       "      <td>0</td>\n",
       "      <td>...</td>\n",
       "      <td>Bank Withdrawal</td>\n",
       "      <td>73.9</td>\n",
       "      <td>280.85</td>\n",
       "      <td>0.00</td>\n",
       "      <td>0</td>\n",
       "      <td>134.60</td>\n",
       "      <td>415.45</td>\n",
       "      <td>Churned</td>\n",
       "      <td>Competitor</td>\n",
       "      <td>Competitor had better devices</td>\n",
       "    </tr>\n",
       "    <tr>\n",
       "      <th>3</th>\n",
       "      <td>0011-IGKFF</td>\n",
       "      <td>Male</td>\n",
       "      <td>78</td>\n",
       "      <td>Yes</td>\n",
       "      <td>0</td>\n",
       "      <td>Martinez</td>\n",
       "      <td>94553</td>\n",
       "      <td>38.014457</td>\n",
       "      <td>-122.115432</td>\n",
       "      <td>1</td>\n",
       "      <td>...</td>\n",
       "      <td>Bank Withdrawal</td>\n",
       "      <td>98.0</td>\n",
       "      <td>1237.85</td>\n",
       "      <td>0.00</td>\n",
       "      <td>0</td>\n",
       "      <td>361.66</td>\n",
       "      <td>1599.51</td>\n",
       "      <td>Churned</td>\n",
       "      <td>Dissatisfaction</td>\n",
       "      <td>Product dissatisfaction</td>\n",
       "    </tr>\n",
       "    <tr>\n",
       "      <th>4</th>\n",
       "      <td>0013-EXCHZ</td>\n",
       "      <td>Female</td>\n",
       "      <td>75</td>\n",
       "      <td>Yes</td>\n",
       "      <td>0</td>\n",
       "      <td>Camarillo</td>\n",
       "      <td>93010</td>\n",
       "      <td>34.227846</td>\n",
       "      <td>-119.079903</td>\n",
       "      <td>3</td>\n",
       "      <td>...</td>\n",
       "      <td>Credit Card</td>\n",
       "      <td>83.9</td>\n",
       "      <td>267.40</td>\n",
       "      <td>0.00</td>\n",
       "      <td>0</td>\n",
       "      <td>22.14</td>\n",
       "      <td>289.54</td>\n",
       "      <td>Churned</td>\n",
       "      <td>Dissatisfaction</td>\n",
       "      <td>Network reliability</td>\n",
       "    </tr>\n",
       "  </tbody>\n",
       "</table>\n",
       "<p>5 rows × 38 columns</p>\n",
       "</div>"
      ],
      "text/plain": [
       "  Customer ID  Gender  Age Married  Number of Dependents          City  \\\n",
       "0  0002-ORFBO  Female   37     Yes                     0  Frazier Park   \n",
       "1  0003-MKNFE    Male   46      No                     0      Glendale   \n",
       "2  0004-TLHLJ    Male   50      No                     0    Costa Mesa   \n",
       "3  0011-IGKFF    Male   78     Yes                     0      Martinez   \n",
       "4  0013-EXCHZ  Female   75     Yes                     0     Camarillo   \n",
       "\n",
       "   Zip Code   Latitude   Longitude  Number of Referrals  ...   Payment Method  \\\n",
       "0     93225  34.827662 -118.999073                    2  ...      Credit Card   \n",
       "1     91206  34.162515 -118.203869                    0  ...      Credit Card   \n",
       "2     92627  33.645672 -117.922613                    0  ...  Bank Withdrawal   \n",
       "3     94553  38.014457 -122.115432                    1  ...  Bank Withdrawal   \n",
       "4     93010  34.227846 -119.079903                    3  ...      Credit Card   \n",
       "\n",
       "  Monthly Charge Total Charges  Total Refunds Total Extra Data Charges  \\\n",
       "0           65.6        593.30           0.00                        0   \n",
       "1           -4.0        542.40          38.33                       10   \n",
       "2           73.9        280.85           0.00                        0   \n",
       "3           98.0       1237.85           0.00                        0   \n",
       "4           83.9        267.40           0.00                        0   \n",
       "\n",
       "  Total Long Distance Charges Total Revenue  Customer Status   Churn Category  \\\n",
       "0                      381.51        974.81           Stayed              NaN   \n",
       "1                       96.21        610.28           Stayed              NaN   \n",
       "2                      134.60        415.45          Churned       Competitor   \n",
       "3                      361.66       1599.51          Churned  Dissatisfaction   \n",
       "4                       22.14        289.54          Churned  Dissatisfaction   \n",
       "\n",
       "                    Churn Reason  \n",
       "0                            NaN  \n",
       "1                            NaN  \n",
       "2  Competitor had better devices  \n",
       "3        Product dissatisfaction  \n",
       "4            Network reliability  \n",
       "\n",
       "[5 rows x 38 columns]"
      ]
     },
     "execution_count": 211,
     "metadata": {},
     "output_type": "execute_result"
    }
   ],
   "source": [
    "orig_df = pd.read_csv(\"../Resources/telecom_customer_churn.csv\")\n",
    "orig_df.head()"
   ]
  },
  {
   "cell_type": "code",
   "execution_count": 212,
   "metadata": {},
   "outputs": [
    {
     "data": {
      "text/plain": [
       "Index(['Customer ID', 'Gender', 'Age', 'Married', 'Number of Dependents',\n",
       "       'City', 'Zip Code', 'Latitude', 'Longitude', 'Number of Referrals',\n",
       "       'Tenure in Months', 'Offer', 'Phone Service',\n",
       "       'Avg Monthly Long Distance Charges', 'Multiple Lines',\n",
       "       'Internet Service', 'Internet Type', 'Avg Monthly GB Download',\n",
       "       'Online Security', 'Online Backup', 'Device Protection Plan',\n",
       "       'Premium Tech Support', 'Streaming TV', 'Streaming Movies',\n",
       "       'Streaming Music', 'Unlimited Data', 'Contract', 'Paperless Billing',\n",
       "       'Payment Method', 'Monthly Charge', 'Total Charges', 'Total Refunds',\n",
       "       'Total Extra Data Charges', 'Total Long Distance Charges',\n",
       "       'Total Revenue', 'Customer Status', 'Churn Category', 'Churn Reason'],\n",
       "      dtype='object')"
      ]
     },
     "execution_count": 212,
     "metadata": {},
     "output_type": "execute_result"
    }
   ],
   "source": [
    "orig_df.columns"
   ]
  },
  {
   "cell_type": "code",
   "execution_count": 213,
   "metadata": {},
   "outputs": [
    {
     "name": "stdout",
     "output_type": "stream",
     "text": [
      "['Age', 'Number of Dependents', 'Zip Code', 'Latitude', 'Longitude', 'Number of Referrals', 'Tenure in Months', 'Avg Monthly Long Distance Charges', 'Avg Monthly GB Download', 'Monthly Charge', 'Total Charges', 'Total Refunds', 'Total Extra Data Charges', 'Total Long Distance Charges', 'Total Revenue']\n"
     ]
    },
    {
     "data": {
      "text/html": [
       "<div>\n",
       "<style scoped>\n",
       "    .dataframe tbody tr th:only-of-type {\n",
       "        vertical-align: middle;\n",
       "    }\n",
       "\n",
       "    .dataframe tbody tr th {\n",
       "        vertical-align: top;\n",
       "    }\n",
       "\n",
       "    .dataframe thead th {\n",
       "        text-align: right;\n",
       "    }\n",
       "</style>\n",
       "<table border=\"1\" class=\"dataframe\">\n",
       "  <thead>\n",
       "    <tr style=\"text-align: right;\">\n",
       "      <th></th>\n",
       "      <th>Age</th>\n",
       "      <th>Number of Dependents</th>\n",
       "      <th>Zip Code</th>\n",
       "      <th>Latitude</th>\n",
       "      <th>Longitude</th>\n",
       "      <th>Number of Referrals</th>\n",
       "      <th>Tenure in Months</th>\n",
       "      <th>Avg Monthly Long Distance Charges</th>\n",
       "      <th>Avg Monthly GB Download</th>\n",
       "      <th>Monthly Charge</th>\n",
       "      <th>Total Charges</th>\n",
       "      <th>Total Refunds</th>\n",
       "      <th>Total Extra Data Charges</th>\n",
       "      <th>Total Long Distance Charges</th>\n",
       "      <th>Total Revenue</th>\n",
       "    </tr>\n",
       "  </thead>\n",
       "  <tbody>\n",
       "    <tr>\n",
       "      <th>0</th>\n",
       "      <td>37</td>\n",
       "      <td>0</td>\n",
       "      <td>93225</td>\n",
       "      <td>34.827662</td>\n",
       "      <td>-118.999073</td>\n",
       "      <td>2</td>\n",
       "      <td>9</td>\n",
       "      <td>42.39</td>\n",
       "      <td>16.0</td>\n",
       "      <td>65.6</td>\n",
       "      <td>593.30</td>\n",
       "      <td>0.00</td>\n",
       "      <td>0</td>\n",
       "      <td>381.51</td>\n",
       "      <td>974.81</td>\n",
       "    </tr>\n",
       "    <tr>\n",
       "      <th>1</th>\n",
       "      <td>46</td>\n",
       "      <td>0</td>\n",
       "      <td>91206</td>\n",
       "      <td>34.162515</td>\n",
       "      <td>-118.203869</td>\n",
       "      <td>0</td>\n",
       "      <td>9</td>\n",
       "      <td>10.69</td>\n",
       "      <td>10.0</td>\n",
       "      <td>-4.0</td>\n",
       "      <td>542.40</td>\n",
       "      <td>38.33</td>\n",
       "      <td>10</td>\n",
       "      <td>96.21</td>\n",
       "      <td>610.28</td>\n",
       "    </tr>\n",
       "    <tr>\n",
       "      <th>2</th>\n",
       "      <td>50</td>\n",
       "      <td>0</td>\n",
       "      <td>92627</td>\n",
       "      <td>33.645672</td>\n",
       "      <td>-117.922613</td>\n",
       "      <td>0</td>\n",
       "      <td>4</td>\n",
       "      <td>33.65</td>\n",
       "      <td>30.0</td>\n",
       "      <td>73.9</td>\n",
       "      <td>280.85</td>\n",
       "      <td>0.00</td>\n",
       "      <td>0</td>\n",
       "      <td>134.60</td>\n",
       "      <td>415.45</td>\n",
       "    </tr>\n",
       "    <tr>\n",
       "      <th>3</th>\n",
       "      <td>78</td>\n",
       "      <td>0</td>\n",
       "      <td>94553</td>\n",
       "      <td>38.014457</td>\n",
       "      <td>-122.115432</td>\n",
       "      <td>1</td>\n",
       "      <td>13</td>\n",
       "      <td>27.82</td>\n",
       "      <td>4.0</td>\n",
       "      <td>98.0</td>\n",
       "      <td>1237.85</td>\n",
       "      <td>0.00</td>\n",
       "      <td>0</td>\n",
       "      <td>361.66</td>\n",
       "      <td>1599.51</td>\n",
       "    </tr>\n",
       "    <tr>\n",
       "      <th>4</th>\n",
       "      <td>75</td>\n",
       "      <td>0</td>\n",
       "      <td>93010</td>\n",
       "      <td>34.227846</td>\n",
       "      <td>-119.079903</td>\n",
       "      <td>3</td>\n",
       "      <td>3</td>\n",
       "      <td>7.38</td>\n",
       "      <td>11.0</td>\n",
       "      <td>83.9</td>\n",
       "      <td>267.40</td>\n",
       "      <td>0.00</td>\n",
       "      <td>0</td>\n",
       "      <td>22.14</td>\n",
       "      <td>289.54</td>\n",
       "    </tr>\n",
       "  </tbody>\n",
       "</table>\n",
       "</div>"
      ],
      "text/plain": [
       "   Age  Number of Dependents  Zip Code   Latitude   Longitude  \\\n",
       "0   37                     0     93225  34.827662 -118.999073   \n",
       "1   46                     0     91206  34.162515 -118.203869   \n",
       "2   50                     0     92627  33.645672 -117.922613   \n",
       "3   78                     0     94553  38.014457 -122.115432   \n",
       "4   75                     0     93010  34.227846 -119.079903   \n",
       "\n",
       "   Number of Referrals  Tenure in Months  Avg Monthly Long Distance Charges  \\\n",
       "0                    2                 9                              42.39   \n",
       "1                    0                 9                              10.69   \n",
       "2                    0                 4                              33.65   \n",
       "3                    1                13                              27.82   \n",
       "4                    3                 3                               7.38   \n",
       "\n",
       "   Avg Monthly GB Download  Monthly Charge  Total Charges  Total Refunds  \\\n",
       "0                     16.0            65.6         593.30           0.00   \n",
       "1                     10.0            -4.0         542.40          38.33   \n",
       "2                     30.0            73.9         280.85           0.00   \n",
       "3                      4.0            98.0        1237.85           0.00   \n",
       "4                     11.0            83.9         267.40           0.00   \n",
       "\n",
       "   Total Extra Data Charges  Total Long Distance Charges  Total Revenue  \n",
       "0                         0                       381.51         974.81  \n",
       "1                        10                        96.21         610.28  \n",
       "2                         0                       134.60         415.45  \n",
       "3                         0                       361.66        1599.51  \n",
       "4                         0                        22.14         289.54  "
      ]
     },
     "execution_count": 213,
     "metadata": {},
     "output_type": "execute_result"
    }
   ],
   "source": [
    "mylist = list(orig_df.select_dtypes(exclude=['object']).columns)\n",
    "print(mylist)\n",
    "\n",
    "kmean_df = orig_df[mylist]\n",
    "kmean_df.head()"
   ]
  },
  {
   "cell_type": "code",
   "execution_count": 214,
   "metadata": {},
   "outputs": [
    {
     "name": "stderr",
     "output_type": "stream",
     "text": [
      "c:\\Users\\User\\anaconda3\\envs\\PythonAdv\\lib\\site-packages\\pandas\\core\\frame.py:4174: SettingWithCopyWarning: \n",
      "A value is trying to be set on a copy of a slice from a DataFrame\n",
      "\n",
      "See the caveats in the documentation: https://pandas.pydata.org/pandas-docs/stable/user_guide/indexing.html#returning-a-view-versus-a-copy\n",
      "  errors=errors,\n"
     ]
    }
   ],
   "source": [
    "kmean_df.drop('Zip Code', axis=1, inplace=True)\n",
    "kmean_df.drop('Latitude', axis=1, inplace=True)\n",
    "kmean_df.drop('Longitude', axis=1, inplace=True)\n",
    "kmean_df.drop('Monthly Charge', axis=1, inplace=True)\n",
    "kmean_df.drop('Total Refunds', axis=1, inplace=True)\n",
    "kmean_df.drop('Total Charges', axis=1, inplace=True)\n",
    "kmean_df.drop('Total Extra Data Charges', axis=1, inplace=True)\n",
    "kmean_df.drop('Total Long Distance Charges', axis=1, inplace=True)\n",
    "kmean_df.drop('Total Revenue', axis=1, inplace=True)\n",
    "\n"
   ]
  },
  {
   "cell_type": "code",
   "execution_count": 215,
   "metadata": {},
   "outputs": [
    {
     "name": "stdout",
     "output_type": "stream",
     "text": [
      "Dataframe size: is 7043\n",
      "Dataframe size after drop is 4835\n"
     ]
    },
    {
     "name": "stderr",
     "output_type": "stream",
     "text": [
      "c:\\Users\\User\\anaconda3\\envs\\PythonAdv\\lib\\site-packages\\ipykernel_launcher.py:2: SettingWithCopyWarning: \n",
      "A value is trying to be set on a copy of a slice from a DataFrame\n",
      "\n",
      "See the caveats in the documentation: https://pandas.pydata.org/pandas-docs/stable/user_guide/indexing.html#returning-a-view-versus-a-copy\n",
      "  \n"
     ]
    }
   ],
   "source": [
    "print(\"Dataframe size: is\",len(kmean_df))\n",
    "kmean_df.dropna( axis=0, how='any', thresh=None, subset=None, inplace=True)\n",
    "print(\"Dataframe size after drop is\",len(kmean_df))"
   ]
  },
  {
   "cell_type": "code",
   "execution_count": 216,
   "metadata": {},
   "outputs": [
    {
     "data": {
      "text/html": [
       "<div>\n",
       "<style scoped>\n",
       "    .dataframe tbody tr th:only-of-type {\n",
       "        vertical-align: middle;\n",
       "    }\n",
       "\n",
       "    .dataframe tbody tr th {\n",
       "        vertical-align: top;\n",
       "    }\n",
       "\n",
       "    .dataframe thead th {\n",
       "        text-align: right;\n",
       "    }\n",
       "</style>\n",
       "<table border=\"1\" class=\"dataframe\">\n",
       "  <thead>\n",
       "    <tr style=\"text-align: right;\">\n",
       "      <th></th>\n",
       "      <th>Age</th>\n",
       "      <th>Number of Dependents</th>\n",
       "      <th>Number of Referrals</th>\n",
       "      <th>Tenure in Months</th>\n",
       "      <th>Avg Monthly Long Distance Charges</th>\n",
       "      <th>Avg Monthly GB Download</th>\n",
       "    </tr>\n",
       "  </thead>\n",
       "  <tbody>\n",
       "    <tr>\n",
       "      <th>0</th>\n",
       "      <td>37</td>\n",
       "      <td>0</td>\n",
       "      <td>2</td>\n",
       "      <td>9</td>\n",
       "      <td>42.39</td>\n",
       "      <td>16.0</td>\n",
       "    </tr>\n",
       "    <tr>\n",
       "      <th>1</th>\n",
       "      <td>46</td>\n",
       "      <td>0</td>\n",
       "      <td>0</td>\n",
       "      <td>9</td>\n",
       "      <td>10.69</td>\n",
       "      <td>10.0</td>\n",
       "    </tr>\n",
       "    <tr>\n",
       "      <th>2</th>\n",
       "      <td>50</td>\n",
       "      <td>0</td>\n",
       "      <td>0</td>\n",
       "      <td>4</td>\n",
       "      <td>33.65</td>\n",
       "      <td>30.0</td>\n",
       "    </tr>\n",
       "    <tr>\n",
       "      <th>3</th>\n",
       "      <td>78</td>\n",
       "      <td>0</td>\n",
       "      <td>1</td>\n",
       "      <td>13</td>\n",
       "      <td>27.82</td>\n",
       "      <td>4.0</td>\n",
       "    </tr>\n",
       "    <tr>\n",
       "      <th>4</th>\n",
       "      <td>75</td>\n",
       "      <td>0</td>\n",
       "      <td>3</td>\n",
       "      <td>3</td>\n",
       "      <td>7.38</td>\n",
       "      <td>11.0</td>\n",
       "    </tr>\n",
       "  </tbody>\n",
       "</table>\n",
       "</div>"
      ],
      "text/plain": [
       "   Age  Number of Dependents  Number of Referrals  Tenure in Months  \\\n",
       "0   37                     0                    2                 9   \n",
       "1   46                     0                    0                 9   \n",
       "2   50                     0                    0                 4   \n",
       "3   78                     0                    1                13   \n",
       "4   75                     0                    3                 3   \n",
       "\n",
       "   Avg Monthly Long Distance Charges  Avg Monthly GB Download  \n",
       "0                              42.39                     16.0  \n",
       "1                              10.69                     10.0  \n",
       "2                              33.65                     30.0  \n",
       "3                              27.82                      4.0  \n",
       "4                               7.38                     11.0  "
      ]
     },
     "execution_count": 216,
     "metadata": {},
     "output_type": "execute_result"
    }
   ],
   "source": [
    "kmean_df.head()"
   ]
  },
  {
   "cell_type": "code",
   "execution_count": 217,
   "metadata": {},
   "outputs": [
    {
     "data": {
      "text/plain": [
       "(4835, 2)"
      ]
     },
     "execution_count": 217,
     "metadata": {},
     "output_type": "execute_result"
    }
   ],
   "source": [
    "#Load Data\n",
    "data = kmean_df\n",
    "pca = PCA(2)\n",
    " \n",
    "#Transform the data\n",
    "df = pca.fit_transform(data)\n",
    " \n",
    "df.shape"
   ]
  },
  {
   "cell_type": "code",
   "execution_count": 218,
   "metadata": {},
   "outputs": [
    {
     "name": "stdout",
     "output_type": "stream",
     "text": [
      "[3 5 3 ... 8 6 7]\n"
     ]
    }
   ],
   "source": [
    "#2. Apply K-Means to the Data\n",
    " \n",
    "#Initialize the class object\n",
    "kmeans = KMeans(n_clusters= 10)\n",
    " \n",
    "#predict the labels of clusters.\n",
    "label = kmeans.fit_predict(df)\n",
    "#kmeans.fit_predict method returns the array of cluster labels each data point belongs to. \n",
    "\n",
    "print(label)"
   ]
  },
  {
   "cell_type": "code",
   "execution_count": 219,
   "metadata": {},
   "outputs": [
    {
     "data": {
      "image/png": "[encoded data removed]",
      "text/plain": [
       "<Figure size 432x288 with 1 Axes>"
      ]
     },
     "metadata": {
      "needs_background": "light"
     },
     "output_type": "display_data"
    }
   ],
   "source": [
    "#3. Plotting Label 0 K-Means Clusters\n",
    "#Let’s visualize cluster with label 0 using the matplotlib library.\n",
    "\n",
    " \n",
    "#filter rows of original data\n",
    "filtered_label0 = df[label == 0]\n",
    " \n",
    "#plotting the results\n",
    "plt.scatter(filtered_label0[:,0] , filtered_label0[:,1])\n",
    "plt.show()"
   ]
  },
  {
   "cell_type": "code",
   "execution_count": 220,
   "metadata": {},
   "outputs": [
    {
     "data": {
      "image/png": "[encoded data removed]",
      "text/plain": [
       "<Figure size 432x288 with 1 Axes>"
      ]
     },
     "metadata": {
      "needs_background": "light"
     },
     "output_type": "display_data"
    }
   ],
   "source": [
    "#4. Plotting Additional K-Means Clusters\n",
    "\n",
    "#filter rows of original data\n",
    "filtered_label2 = df[label == 2]\n",
    " \n",
    "filtered_label8 = df[label == 8]\n",
    " \n",
    "#Plotting the results\n",
    "plt.scatter(filtered_label2[:,0] , filtered_label2[:,1] , color = 'red')\n",
    "plt.scatter(filtered_label8[:,0] , filtered_label8[:,1] , color = 'black')\n",
    "plt.show()"
   ]
  },
  {
   "cell_type": "code",
   "execution_count": 221,
   "metadata": {},
   "outputs": [
    {
     "name": "stdout",
     "output_type": "stream",
     "text": [
      "[0 1 2 3 4 5 6 7 8 9]\n"
     ]
    },
    {
     "data": {
      "image/png": "[encoded data removed]",
      "text/plain": [
       "<Figure size 432x288 with 1 Axes>"
      ]
     },
     "metadata": {
      "needs_background": "light"
     },
     "output_type": "display_data"
    }
   ],
   "source": [
    "#Getting the Centroids\n",
    "centroids = kmeans.cluster_centers_\n",
    "u_labels = np.unique(label)\n",
    "\n",
    "print(u_labels)\n",
    " \n",
    "#plotting the results:\n",
    " \n",
    "for i in u_labels:\n",
    "    plt.scatter(df[label == i , 0] , df[label == i , 1] , label = i)\n",
    "    \n",
    "plt.scatter(centroids[:,0] , centroids[:,1] , s = 80, color = 'k')\n",
    "plt.legend()\n",
    "plt.show()"
   ]
  },
  {
   "cell_type": "code",
   "execution_count": 222,
   "metadata": {},
   "outputs": [
    {
     "data": {
      "image/png": "[encoded data removed]",
      "text/plain": [
       "<Figure size 432x288 with 1 Axes>"
      ]
     },
     "metadata": {
      "needs_background": "light"
     },
     "output_type": "display_data"
    }
   ],
   "source": [
    "#Importing required modules\n",
    " \n",
    "#Load Data\n",
    "data = kmean_df\n",
    "pca = PCA(2)\n",
    " \n",
    "#Transform the data\n",
    "df = pca.fit_transform(data)\n",
    " \n",
    "#Import KMeans module\n",
    "from sklearn.cluster import KMeans\n",
    " \n",
    "#Initialize the class object\n",
    "kmeans = KMeans(n_clusters= 10)\n",
    " \n",
    "#predict the labels of clusters.\n",
    "label = kmeans.fit_predict(df)\n",
    " \n",
    "#Getting unique labels\n",
    "u_labels = np.unique(label)\n",
    " \n",
    "#plotting the results:\n",
    "for i in u_labels:\n",
    "    plt.scatter(df[label == i , 0] , df[label == i , 1] , label = i)\n",
    "plt.legend()\n",
    "plt.show()"
   ]
  },
  {
   "cell_type": "markdown",
   "metadata": {},
   "source": [
    "https://www.askpython.com/python/examples/plot-k-means-clusters-python"
   ]
  },
  {
   "cell_type": "code",
   "execution_count": 223,
   "metadata": {},
   "outputs": [
    {
     "data": {
      "text/html": [
       "<div>\n",
       "<style scoped>\n",
       "    .dataframe tbody tr th:only-of-type {\n",
       "        vertical-align: middle;\n",
       "    }\n",
       "\n",
       "    .dataframe tbody tr th {\n",
       "        vertical-align: top;\n",
       "    }\n",
       "\n",
       "    .dataframe thead tr th {\n",
       "        text-align: left;\n",
       "    }\n",
       "</style>\n",
       "<table border=\"1\" class=\"dataframe\">\n",
       "  <thead>\n",
       "    <tr>\n",
       "      <th></th>\n",
       "      <th>Age</th>\n",
       "      <th>Number of Dependents</th>\n",
       "      <th>Number of Referrals</th>\n",
       "      <th>Tenure in Months</th>\n",
       "      <th>Avg Monthly Long Distance Charges</th>\n",
       "      <th>Avg Monthly GB Download</th>\n",
       "    </tr>\n",
       "  </thead>\n",
       "  <tbody>\n",
       "    <tr>\n",
       "      <th>0</th>\n",
       "      <td>0.295082</td>\n",
       "      <td>0.0</td>\n",
       "      <td>0.181818</td>\n",
       "      <td>0.112676</td>\n",
       "      <td>0.844835</td>\n",
       "      <td>0.168675</td>\n",
       "    </tr>\n",
       "    <tr>\n",
       "      <th>1</th>\n",
       "      <td>0.442623</td>\n",
       "      <td>0.0</td>\n",
       "      <td>0.000000</td>\n",
       "      <td>0.112676</td>\n",
       "      <td>0.197632</td>\n",
       "      <td>0.096386</td>\n",
       "    </tr>\n",
       "    <tr>\n",
       "      <th>2</th>\n",
       "      <td>0.508197</td>\n",
       "      <td>0.0</td>\n",
       "      <td>0.000000</td>\n",
       "      <td>0.042254</td>\n",
       "      <td>0.666394</td>\n",
       "      <td>0.337349</td>\n",
       "    </tr>\n",
       "    <tr>\n",
       "      <th>3</th>\n",
       "      <td>0.967213</td>\n",
       "      <td>0.0</td>\n",
       "      <td>0.090909</td>\n",
       "      <td>0.169014</td>\n",
       "      <td>0.547366</td>\n",
       "      <td>0.024096</td>\n",
       "    </tr>\n",
       "    <tr>\n",
       "      <th>4</th>\n",
       "      <td>0.918033</td>\n",
       "      <td>0.0</td>\n",
       "      <td>0.272727</td>\n",
       "      <td>0.028169</td>\n",
       "      <td>0.130053</td>\n",
       "      <td>0.108434</td>\n",
       "    </tr>\n",
       "  </tbody>\n",
       "</table>\n",
       "</div>"
      ],
      "text/plain": [
       "        Age Number of Dependents Number of Referrals Tenure in Months  \\\n",
       "0  0.295082                  0.0            0.181818         0.112676   \n",
       "1  0.442623                  0.0            0.000000         0.112676   \n",
       "2  0.508197                  0.0            0.000000         0.042254   \n",
       "3  0.967213                  0.0            0.090909         0.169014   \n",
       "4  0.918033                  0.0            0.272727         0.028169   \n",
       "\n",
       "  Avg Monthly Long Distance Charges Avg Monthly GB Download  \n",
       "0                          0.844835                0.168675  \n",
       "1                          0.197632                0.096386  \n",
       "2                          0.666394                0.337349  \n",
       "3                          0.547366                0.024096  \n",
       "4                          0.130053                0.108434  "
      ]
     },
     "execution_count": 223,
     "metadata": {},
     "output_type": "execute_result"
    }
   ],
   "source": [
    "cols = kmean_df.columns\n",
    "\n",
    "ms = MinMaxScaler()\n",
    "\n",
    "X = ms.fit_transform(kmean_df)\n",
    "\n",
    "X = pd.DataFrame(X, columns=[cols])\n",
    "\n",
    "X.head()"
   ]
  },
  {
   "cell_type": "code",
   "execution_count": 224,
   "metadata": {},
   "outputs": [
    {
     "data": {
      "image/png": "[encoded data removed]",
      "text/plain": [
       "<Figure size 432x288 with 1 Axes>"
      ]
     },
     "metadata": {
      "needs_background": "light"
     },
     "output_type": "display_data"
    }
   ],
   "source": [
    "\n",
    "cs = []\n",
    "for i in range(1, 11):\n",
    "    kmeans = KMeans(n_clusters = i, init = 'k-means++', max_iter = 300, n_init = 10)\n",
    "    kmeans.fit(X)\n",
    "    cs.append(kmeans.inertia_)\n",
    "plt.plot(range(1, 11), cs)\n",
    "plt.title('The Elbow Method')\n",
    "plt.xlabel('Number of clusters')\n",
    "plt.ylabel('CS')\n",
    "plt.show()"
   ]
  },
  {
   "cell_type": "code",
   "execution_count": 225,
   "metadata": {},
   "outputs": [
    {
     "data": {
      "image/png": "[encoded data removed]",
      "text/plain": [
       "<Figure size 432x288 with 1 Axes>"
      ]
     },
     "metadata": {
      "needs_background": "light"
     },
     "output_type": "display_data"
    }
   ],
   "source": [
    "#Importing required modules\n",
    " \n",
    " \n",
    "#Load Data\n",
    "data = kmean_df\n",
    "pca = PCA(2)\n",
    " \n",
    "#Transform the data\n",
    "df = pca.fit_transform(data)\n",
    " \n",
    "#Import KMeans module\n",
    "from sklearn.cluster import KMeans\n",
    " \n",
    "#Initialize the class object\n",
    "kmeans = KMeans(n_clusters= 2)\n",
    " \n",
    "#predict the labels of clusters.\n",
    "label = kmeans.fit_predict(df)\n",
    " \n",
    "#Getting unique labels\n",
    "u_labels = np.unique(label)\n",
    " \n",
    "#plotting the results:\n",
    "for i in u_labels:\n",
    "    plt.scatter(df[label == i , 0] , df[label == i , 1] , label = i)\n",
    "plt.legend()\n",
    "plt.show()"
   ]
  },
  {
   "cell_type": "code",
   "execution_count": 226,
   "metadata": {},
   "outputs": [
    {
     "data": {
      "image/png": "[encoded data removed]",
      "text/plain": [
       "<Figure size 432x288 with 1 Axes>"
      ]
     },
     "metadata": {
      "needs_background": "light"
     },
     "output_type": "display_data"
    }
   ],
   "source": [
    "#Importing required modules\n",
    "\n",
    " \n",
    "#Load Data\n",
    "data = kmean_df\n",
    "pca = PCA(2)\n",
    " \n",
    "#Transform the data\n",
    "df = pca.fit_transform(data)\n",
    " \n",
    "#Import KMeans module\n",
    "from sklearn.cluster import KMeans\n",
    " \n",
    "#Initialize the class object\n",
    "kmeans = KMeans(n_clusters= 5)\n",
    " \n",
    "#predict the labels of clusters.\n",
    "label = kmeans.fit_predict(df)\n",
    " \n",
    "#Getting unique labels\n",
    "u_labels = np.unique(label)\n",
    " \n",
    "#plotting the results:\n",
    "for i in u_labels:\n",
    "    plt.scatter(df[label == i , 0] , df[label == i , 1] , label = i)\n",
    "plt.legend()\n",
    "plt.show()"
   ]
  },
  {
   "cell_type": "code",
   "execution_count": 227,
   "metadata": {},
   "outputs": [
    {
     "name": "stdout",
     "output_type": "stream",
     "text": [
      "[0 1 2 3 4]\n"
     ]
    },
    {
     "data": {
      "image/png": "[encoded data removed]",
      "text/plain": [
       "<Figure size 432x288 with 1 Axes>"
      ]
     },
     "metadata": {
      "needs_background": "light"
     },
     "output_type": "display_data"
    }
   ],
   "source": [
    "#Getting the Centroids\n",
    "centroids = kmeans.cluster_centers_\n",
    "u_labels = np.unique(label)\n",
    "\n",
    "print(u_labels)\n",
    " \n",
    "#plotting the results:\n",
    " \n",
    "for i in u_labels:\n",
    "    plt.scatter(df[label == i , 0] , df[label == i , 1] , label = i)\n",
    "    \n",
    "plt.scatter(centroids[:,0] , centroids[:,1] , s = 80, color = 'k')\n",
    "plt.legend()\n",
    "plt.show()"
   ]
  },
  {
   "cell_type": "markdown",
   "metadata": {},
   "source": [
    "https://www.simplilearn.com/tutorials/machine-learning-tutorial/k-means-clustering-algorithm#:~:text=K%2DMeans%20clustering%20is%20an,objects%20belonging%20to%20another%20cluster."
   ]
  },
  {
   "cell_type": "code",
   "execution_count": 228,
   "metadata": {},
   "outputs": [
    {
     "name": "stdout",
     "output_type": "stream",
     "text": [
      "        Age  Number of Dependents  Number of Referrals  Tenure in Months  \\\n",
      "0  0.000160                   0.0             0.000218          0.000056   \n",
      "1  0.000199                   0.0             0.000000          0.000056   \n",
      "2  0.000217                   0.0             0.000000          0.000025   \n",
      "3  0.000338                   0.0             0.000109          0.000081   \n",
      "4  0.000325                   0.0             0.000328          0.000019   \n",
      "\n",
      "   Avg Monthly Long Distance Charges  Avg Monthly GB Download  \n",
      "0                           0.000343                 0.000127  \n",
      "1                           0.000086                 0.000079  \n",
      "2                           0.000272                 0.000238  \n",
      "3                           0.000225                 0.000032  \n",
      "4                           0.000060                 0.000087  \n",
      "<class 'pandas.core.frame.DataFrame'>\n",
      "RangeIndex: 4835 entries, 0 to 4834\n",
      "Data columns (total 6 columns):\n",
      " #   Column                             Non-Null Count  Dtype  \n",
      "---  ------                             --------------  -----  \n",
      " 0   Age                                4835 non-null   float64\n",
      " 1   Number of Dependents               4835 non-null   float64\n",
      " 2   Number of Referrals                4835 non-null   float64\n",
      " 3   Tenure in Months                   4835 non-null   float64\n",
      " 4   Avg Monthly Long Distance Charges  4835 non-null   float64\n",
      " 5   Avg Monthly GB Download            4835 non-null   float64\n",
      "dtypes: float64(6)\n",
      "memory usage: 226.8 KB\n",
      "None\n"
     ]
    }
   ],
   "source": [
    "norm_data = normalize(kmean_df, norm=\"l1\", axis=0)\n",
    "norm_data = pd.DataFrame(columns=kmean_df.columns, data=norm_data)\n",
    "\n",
    "scaler = MinMaxScaler()\n",
    "m_norm_data = normalize(kmean_df, norm=\"max\", axis=0)\n",
    "m_norm_data = pd.DataFrame(columns=kmean_df.columns, data=m_norm_data)  # convert back to a dataframe\n",
    "\n",
    "norm_data = pd.DataFrame(columns=kmean_df.columns, data=norm_data)\n",
    "\n",
    "print(norm_data.head(5))\n",
    "print(norm_data.info())"
   ]
  },
  {
   "cell_type": "code",
   "execution_count": 229,
   "metadata": {},
   "outputs": [
    {
     "name": "stdout",
     "output_type": "stream",
     "text": [
      "                                        Age  Number of Dependents  \\\n",
      "Age                                1.000000             -0.123059   \n",
      "Number of Dependents              -0.123059              1.000000   \n",
      "Number of Referrals               -0.023698              0.274571   \n",
      "Tenure in Months                  -0.010313              0.135130   \n",
      "Avg Monthly Long Distance Charges -0.024382             -0.004698   \n",
      "Avg Monthly GB Download           -0.567253              0.298804   \n",
      "\n",
      "                                   Number of Referrals  Tenure in Months  \\\n",
      "Age                                          -0.023698         -0.010313   \n",
      "Number of Dependents                          0.274571          0.135130   \n",
      "Number of Referrals                           1.000000          0.349465   \n",
      "Tenure in Months                              0.349465          1.000000   \n",
      "Avg Monthly Long Distance Charges            -0.003733          0.009926   \n",
      "Avg Monthly GB Download                       0.078010          0.043341   \n",
      "\n",
      "                                   Avg Monthly Long Distance Charges  \\\n",
      "Age                                                        -0.024382   \n",
      "Number of Dependents                                       -0.004698   \n",
      "Number of Referrals                                        -0.003733   \n",
      "Tenure in Months                                            0.009926   \n",
      "Avg Monthly Long Distance Charges                           1.000000   \n",
      "Avg Monthly GB Download                                     0.019047   \n",
      "\n",
      "                                   Avg Monthly GB Download  \n",
      "Age                                              -0.567253  \n",
      "Number of Dependents                              0.298804  \n",
      "Number of Referrals                               0.078010  \n",
      "Tenure in Months                                  0.043341  \n",
      "Avg Monthly Long Distance Charges                 0.019047  \n",
      "Avg Monthly GB Download                           1.000000  \n"
     ]
    }
   ],
   "source": [
    "corr_matrix = norm_data.corr()\n",
    "print(corr_matrix)"
   ]
  },
  {
   "cell_type": "code",
   "execution_count": 230,
   "metadata": {},
   "outputs": [],
   "source": [
    "RAND_STATE=50  # for reproducibility and consistency\n",
    "folds=3\n",
    "k_fold = KFold(n_splits=folds, shuffle=True)  # setting generator for k-fold splitting"
   ]
  },
  {
   "cell_type": "code",
   "execution_count": 231,
   "metadata": {},
   "outputs": [],
   "source": [
    "# Dictionary of hyperparameters to iterate through\n",
    "# GridSearchCV will try every combination of these hyperparameters and\n",
    "# return the model with the best score via KFold validation\n",
    "hyperparams = {\n",
    "    \"n_clusters\": [2, 3, 4, 5, 6, 7, 8, 9],\n",
    "    \"n_init\": [10, 15, 20],\n",
    "    \"max_iter\": [100, 200, 300, 400, 500],\n",
    "    \"tol\": [.0000001, .000001, .00001, .0001],\n",
    "}\n",
    "\n",
    "k_means = KMeans()  # sets jobs equal to number of cores\n",
    "\n",
    "ensemble = GridSearchCV(\n",
    "    estimator=k_means,\n",
    "    param_grid=hyperparams,\n",
    "    cv=k_fold,\n",
    "    n_jobs=-1\n",
    ")"
   ]
  },
  {
   "cell_type": "code",
   "execution_count": 238,
   "metadata": {},
   "outputs": [
    {
     "data": {
      "text/plain": [
       "GridSearchCV(cv=KFold(n_splits=3, random_state=None, shuffle=True),\n",
       "             estimator=KMeans(), n_jobs=-1,\n",
       "             param_grid={'max_iter': [100, 200, 300, 400, 500],\n",
       "                         'n_clusters': [2, 3, 4, 5, 6, 7, 8, 9],\n",
       "                         'n_init': [10, 15, 20],\n",
       "                         'tol': [1e-07, 1e-06, 1e-05, 0.0001]})"
      ]
     },
     "execution_count": 238,
     "metadata": {},
     "output_type": "execute_result"
    }
   ],
   "source": [
    "ensemble.fit(norm_data)"
   ]
  },
  {
   "cell_type": "code",
   "execution_count": 236,
   "metadata": {},
   "outputs": [
    {
     "data": {
      "text/plain": [
       "GridSearchCV(cv=KFold(n_splits=3, random_state=None, shuffle=True),\n",
       "             error_score='raise', estimator=KMeans(), n_jobs=-1,\n",
       "             param_grid={'max_iter': [100, 200, 300, 400, 500],\n",
       "                         'n_clusters': [2, 3, 4, 5, 6], 'n_init': [10, 15, 20],\n",
       "                         'tol': [1e-07, 1e-06, 1e-05, 0.0001]},\n",
       "             return_train_score=True)"
      ]
     },
     "execution_count": 236,
     "metadata": {},
     "output_type": "execute_result"
    }
   ],
   "source": [
    "GridSearchCV(cv=KFold(n_splits=3, shuffle=True),\n",
    "       error_score='raise',\n",
    "       estimator=KMeans(algorithm='auto', copy_x=True, init='k-means++', max_iter=300,\n",
    "       n_clusters=8, n_init=10, \n",
    "       random_state=None, tol=0.0001, verbose=0),\n",
    "       n_jobs=-1,\n",
    "       param_grid={'max_iter': [100, 200, 300, 400, 500], 'n_init': [10, 15, 20], 'tol': [1e-07, 1e-06, 1e-05, 0.0001], 'n_clusters': [2, 3, 4, 5, 6]},\n",
    "       pre_dispatch='2*n_jobs', refit=True, return_train_score=True,\n",
    "       scoring=None, verbose=0)"
   ]
  },
  {
   "cell_type": "code",
   "execution_count": 237,
   "metadata": {},
   "outputs": [
    {
     "name": "stdout",
     "output_type": "stream",
     "text": [
      "0.30452959137236557\n",
      "{'max_iter': 300, 'n_clusters': 9, 'n_init': 15, 'tol': 1e-05}\n"
     ]
    }
   ],
   "source": [
    "# Generate labels for data with model with raw data, compute score\n",
    "labels = ensemble.predict(norm_data)\n",
    "score = silhouette_score(norm_data, labels)\n",
    "print(score)\n",
    "print(ensemble.best_params_)"
   ]
  },
  {
   "cell_type": "code",
   "execution_count": 235,
   "metadata": {},
   "outputs": [
    {
     "name": "stdout",
     "output_type": "stream",
     "text": [
      "0.6269721105431104\n",
      "{'max_iter': 100, 'n_init': 10, 'tol': 1e-07}\n"
     ]
    }
   ],
   "source": [
    "# hyperparameters to try out for binary classification with KNN\n",
    "bin_params = {\n",
    "    \"n_init\": [10, 15, 20],\n",
    "    \"max_iter\": [100, 200, 300, 400, 500],\n",
    "    \"tol\": [.0000001, .000001, .00001, .0001],\n",
    "}\n",
    "\n",
    "bin_k_means = KMeans(n_clusters=2)  # set 2 clusters\n",
    "\n",
    "binary_ensemble = GridSearchCV(\n",
    "    estimator=bin_k_means,\n",
    "    param_grid=bin_params,\n",
    "    cv=k_fold,\n",
    "    n_jobs=-1\n",
    ")\n",
    "\n",
    "binary_ensemble.fit(norm_data)  # fit model to data and return best model\n",
    "\n",
    "# Generate labels for data with model with raw data, compute score\n",
    "bin_labels = binary_ensemble.predict(norm_data)\n",
    "bin_score = silhouette_score(norm_data, bin_labels)\n",
    "\n",
    "# Output score to user\n",
    "print(bin_score)\n",
    "print(binary_ensemble.best_params_)"
   ]
  }
 ],
 "metadata": {
  "kernelspec": {
   "display_name": "Python 3.6.13 ('PythonAdv')",
   "language": "python",
   "name": "python3"
  },
  "language_info": {
   "codemirror_mode": {
    "name": "ipython",
    "version": 3
   },
   "file_extension": ".py",
   "mimetype": "text/x-python",
   "name": "python",
   "nbconvert_exporter": "python",
   "pygments_lexer": "ipython3",
   "version": "3.6.13"
  },
  "orig_nbformat": 4,
  "vscode": {
   "interpreter": {
    "hash": "a791cab062a812f57c4cd8ed2766e77836e01fcd09dbc476bdf7c40823bcedc2"
   }
  }
 },
 "nbformat": 4,
 "nbformat_minor": 2
}
